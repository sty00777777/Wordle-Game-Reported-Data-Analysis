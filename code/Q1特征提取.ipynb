{
 "cells": [
  {
   "cell_type": "code",
   "execution_count": 1,
   "metadata": {},
   "outputs": [],
   "source": [
    "import pandas as pd\n",
    "import numpy as np\n",
    "from collections import Counter\n",
    "import matplotlib as mpl\n",
    "import matplotlib.pyplot as plt\n",
    "plt.rcParams['font.sans-serif'] = ['SimHei']\n",
    "plt.rcParams['axes.unicode_minus'] = False    \n",
    "import seaborn as sns\n",
    "sns.set_palette(\"BuGn_r\")#调色"
   ]
  },
  {
   "cell_type": "code",
   "execution_count": 2,
   "metadata": {},
   "outputs": [],
   "source": [
    "def show_values(axs, orient=\"v\", space=.01):\n",
    "    def _single(ax):\n",
    "        if orient == \"v\":\n",
    "            for p in ax.patches:\n",
    "                _x = p.get_x() + p.get_width() / 2\n",
    "                _y = p.get_y() + p.get_height() + (p.get_height()*0.01)\n",
    "                value = '{:.1f}'.format(p.get_height())\n",
    "                ax.text(_x, _y, value, ha=\"center\") \n",
    "        elif orient == \"h\":\n",
    "            for p in ax.patches:\n",
    "                _x = p.get_x() + p.get_width() + float(space)\n",
    "                _y = p.get_y() + p.get_height() - (p.get_height()*0.5)\n",
    "                value = '{:.1f}'.format(p.get_width())\n",
    "                ax.text(_x, _y, value, ha=\"left\")\n",
    "\n",
    "    if isinstance(axs, np.ndarray):\n",
    "        for idx, ax in np.ndenumerate(axs):\n",
    "            _single(ax)\n",
    "    else:\n",
    "        _single(axs)"
   ]
  },
  {
   "cell_type": "code",
   "execution_count": 3,
   "metadata": {},
   "outputs": [
    {
     "data": {
      "text/html": [
       "<div>\n",
       "<style scoped>\n",
       "    .dataframe tbody tr th:only-of-type {\n",
       "        vertical-align: middle;\n",
       "    }\n",
       "\n",
       "    .dataframe tbody tr th {\n",
       "        vertical-align: top;\n",
       "    }\n",
       "\n",
       "    .dataframe thead th {\n",
       "        text-align: right;\n",
       "    }\n",
       "</style>\n",
       "<table border=\"1\" class=\"dataframe\">\n",
       "  <thead>\n",
       "    <tr style=\"text-align: right;\">\n",
       "      <th></th>\n",
       "      <th>Date</th>\n",
       "      <th>Contest number</th>\n",
       "      <th>Word</th>\n",
       "      <th>Number of  reported results</th>\n",
       "      <th>Number in hard mode</th>\n",
       "      <th>1 try</th>\n",
       "      <th>2 tries</th>\n",
       "      <th>3 tries</th>\n",
       "      <th>4 tries</th>\n",
       "      <th>5 tries</th>\n",
       "      <th>6 tries</th>\n",
       "      <th>7 or more tries (X)</th>\n",
       "    </tr>\n",
       "  </thead>\n",
       "  <tbody>\n",
       "    <tr>\n",
       "      <th>0</th>\n",
       "      <td>2022-01-07</td>\n",
       "      <td>202</td>\n",
       "      <td>slump</td>\n",
       "      <td>80630.0</td>\n",
       "      <td>1362.0</td>\n",
       "      <td>1.000000</td>\n",
       "      <td>3.000000</td>\n",
       "      <td>23.000000</td>\n",
       "      <td>39.000000</td>\n",
       "      <td>24.000000</td>\n",
       "      <td>9.000000</td>\n",
       "      <td>1.000000</td>\n",
       "    </tr>\n",
       "    <tr>\n",
       "      <th>1</th>\n",
       "      <td>2022-01-08</td>\n",
       "      <td>203</td>\n",
       "      <td>crank</td>\n",
       "      <td>101503.0</td>\n",
       "      <td>1763.0</td>\n",
       "      <td>1.000000</td>\n",
       "      <td>5.000000</td>\n",
       "      <td>23.000000</td>\n",
       "      <td>31.000000</td>\n",
       "      <td>24.000000</td>\n",
       "      <td>14.000000</td>\n",
       "      <td>2.000000</td>\n",
       "    </tr>\n",
       "    <tr>\n",
       "      <th>2</th>\n",
       "      <td>2022-01-09</td>\n",
       "      <td>204</td>\n",
       "      <td>gorge</td>\n",
       "      <td>91477.0</td>\n",
       "      <td>1913.0</td>\n",
       "      <td>1.000000</td>\n",
       "      <td>3.000000</td>\n",
       "      <td>13.000000</td>\n",
       "      <td>27.000000</td>\n",
       "      <td>30.000000</td>\n",
       "      <td>22.000000</td>\n",
       "      <td>4.000000</td>\n",
       "    </tr>\n",
       "    <tr>\n",
       "      <th>3</th>\n",
       "      <td>2022-01-10</td>\n",
       "      <td>205</td>\n",
       "      <td>query</td>\n",
       "      <td>107134.0</td>\n",
       "      <td>2242.0</td>\n",
       "      <td>1.000000</td>\n",
       "      <td>4.000000</td>\n",
       "      <td>16.000000</td>\n",
       "      <td>30.000000</td>\n",
       "      <td>30.000000</td>\n",
       "      <td>17.000000</td>\n",
       "      <td>2.000000</td>\n",
       "    </tr>\n",
       "    <tr>\n",
       "      <th>4</th>\n",
       "      <td>2022-01-11</td>\n",
       "      <td>206</td>\n",
       "      <td>drink</td>\n",
       "      <td>153880.0</td>\n",
       "      <td>3017.0</td>\n",
       "      <td>0.990099</td>\n",
       "      <td>8.910891</td>\n",
       "      <td>34.653465</td>\n",
       "      <td>33.663366</td>\n",
       "      <td>15.841584</td>\n",
       "      <td>4.950495</td>\n",
       "      <td>0.990099</td>\n",
       "    </tr>\n",
       "  </tbody>\n",
       "</table>\n",
       "</div>"
      ],
      "text/plain": [
       "        Date  Contest number   Word  Number of  reported results  \\\n",
       "0 2022-01-07             202  slump                      80630.0   \n",
       "1 2022-01-08             203  crank                     101503.0   \n",
       "2 2022-01-09             204  gorge                      91477.0   \n",
       "3 2022-01-10             205  query                     107134.0   \n",
       "4 2022-01-11             206  drink                     153880.0   \n",
       "\n",
       "   Number in hard mode     1 try   2 tries    3 tries    4 tries    5 tries  \\\n",
       "0               1362.0  1.000000  3.000000  23.000000  39.000000  24.000000   \n",
       "1               1763.0  1.000000  5.000000  23.000000  31.000000  24.000000   \n",
       "2               1913.0  1.000000  3.000000  13.000000  27.000000  30.000000   \n",
       "3               2242.0  1.000000  4.000000  16.000000  30.000000  30.000000   \n",
       "4               3017.0  0.990099  8.910891  34.653465  33.663366  15.841584   \n",
       "\n",
       "     6 tries  7 or more tries (X)  \n",
       "0   9.000000             1.000000  \n",
       "1  14.000000             2.000000  \n",
       "2  22.000000             4.000000  \n",
       "3  17.000000             2.000000  \n",
       "4   4.950495             0.990099  "
      ]
     },
     "execution_count": 3,
     "metadata": {},
     "output_type": "execute_result"
    }
   ],
   "source": [
    "#读取数据\n",
    "data = pd.read_excel('../data/清洗数据.xlsx')\n",
    "data.head()"
   ]
  },
  {
   "attachments": {},
   "cell_type": "markdown",
   "metadata": {},
   "source": [
    "## 词性"
   ]
  },
  {
   "cell_type": "code",
   "execution_count": 4,
   "metadata": {},
   "outputs": [],
   "source": [
    "#词性提取\n",
    "\n",
    "import nltk\n",
    "column_name = ['tags']\n",
    "temp = []\n",
    "for i in data['Word']:\n",
    "    tag = nltk.tag.pos_tag([i])\n",
    "    tag_row = [tag[0][1]]\n",
    "    temp.append(tag_row)\n",
    "temp = pd.DataFrame(temp,columns = column_name)\n",
    "data = pd.concat([data,temp],axis=1)\n"
   ]
  },
  {
   "cell_type": "code",
   "execution_count": 5,
   "metadata": {},
   "outputs": [
    {
     "name": "stdout",
     "output_type": "stream",
     "text": [
      "NN      319\n",
      "JJ       17\n",
      "RB       10\n",
      "VB        3\n",
      "VBG       3\n",
      "MD        2\n",
      "DT        1\n",
      "PRP$      1\n",
      "JJR       1\n",
      "VBN       1\n",
      "NNS       1\n",
      "Name: tags, dtype: int64\n"
     ]
    },
    {
     "data": {
      "image/png": "[encoded data removed]",
      "text/plain": [
       "<Figure size 600x300 with 1 Axes>"
      ]
     },
     "metadata": {},
     "output_type": "display_data"
    }
   ],
   "source": [
    "#词性特征可视乎\n",
    "#value_count\n",
    "print(data['tags'].value_counts())\n",
    "\n",
    "#可视化\n",
    "plt.figure(figsize=(6,3))\n",
    "a = sns.barplot(x = list(data['tags'].value_counts()[0:5].index), y = list(data['tags'].value_counts()[0:5]))\n",
    "show_values(a)"
   ]
  },
  {
   "cell_type": "code",
   "execution_count": 6,
   "metadata": {},
   "outputs": [],
   "source": [
    "# 特征简化\n",
    "data.loc[~((data['tags'] == 'NN' )| (data['tags'] == 'JJ')),'tags'] = 'others'"
   ]
  },
  {
   "attachments": {},
   "cell_type": "markdown",
   "metadata": {},
   "source": [
    "## 元音字母"
   ]
  },
  {
   "cell_type": "code",
   "execution_count": 7,
   "metadata": {},
   "outputs": [],
   "source": [
    "#元音字母数量提取\n",
    "\n",
    "def countVowels(word): #统计函数\n",
    "    word = word.lower()\n",
    "    vowels = \"aeiou\"\n",
    "    count = 0\n",
    "    for i in word: #循环遍历\n",
    "        if i in vowels: \n",
    "            count += 1  #计数\n",
    "    \n",
    "    return count \n",
    "\n",
    "data['Vowels nums']=data['Word'].apply(lambda x:countVowels(x))"
   ]
  },
  {
   "cell_type": "code",
   "execution_count": 8,
   "metadata": {},
   "outputs": [
    {
     "name": "stdout",
     "output_type": "stream",
     "text": [
      "2    216\n",
      "1    105\n",
      "3     35\n",
      "0      3\n",
      "Name: Vowels nums, dtype: int64\n"
     ]
    },
    {
     "data": {
      "image/png": "[encoded data removed]",
      "text/plain": [
       "<Figure size 600x300 with 1 Axes>"
      ]
     },
     "metadata": {},
     "output_type": "display_data"
    }
   ],
   "source": [
    "#元音字母数量特征可视化\n",
    "print(data['Vowels nums'].value_counts())\n",
    "\n",
    "#可视化\n",
    "plt.figure(figsize=(6,3))\n",
    "b = sns.barplot(x = list(data['Vowels nums'].value_counts().index), y = list(data['Vowels nums'].value_counts()))\n",
    "show_values(b)"
   ]
  },
  {
   "attachments": {},
   "cell_type": "markdown",
   "metadata": {},
   "source": [
    "## 词缀"
   ]
  },
  {
   "cell_type": "code",
   "execution_count": 9,
   "metadata": {},
   "outputs": [],
   "source": [
    "#词缀提取\n",
    "\n",
    "def countRoot(word):\n",
    "    word = word.lower()\n",
    "    root_list = ['er','or','ic','al']\n",
    "    count = 0\n",
    "    for root in root_list:\n",
    "        if root in word:\n",
    "            count += 1 \n",
    "    return count\n",
    "\n",
    "data['Combined nums']=data['Word'].apply(lambda x:countRoot(x))"
   ]
  },
  {
   "cell_type": "code",
   "execution_count": 10,
   "metadata": {},
   "outputs": [
    {
     "name": "stdout",
     "output_type": "stream",
     "text": [
      "0    286\n",
      "1     73\n",
      "Name: Combined nums, dtype: int64\n"
     ]
    },
    {
     "data": {
      "text/plain": [
       "<matplotlib.legend.Legend at 0x173eb3ae820>"
      ]
     },
     "execution_count": 10,
     "metadata": {},
     "output_type": "execute_result"
    },
    {
     "data": {
      "image/png": "[encoded data removed]",
      "text/plain": [
       "<Figure size 600x300 with 1 Axes>"
      ]
     },
     "metadata": {},
     "output_type": "display_data"
    }
   ],
   "source": [
    "#词缀数量特征可视化\n",
    "print(data['Combined nums'].value_counts())\n",
    "\n",
    "#可视化\n",
    "data_v = list(data['Combined nums'].value_counts())\n",
    "labels = list(data['Combined nums'].value_counts().index)\n",
    "plt.figure(figsize=(6,3))\n",
    "plt.pie(data_v,labels = labels,autopct = '%0.0f%%')\n",
    "plt.legend()"
   ]
  },
  {
   "attachments": {},
   "cell_type": "markdown",
   "metadata": {},
   "source": [
    "## 字母数量"
   ]
  },
  {
   "cell_type": "code",
   "execution_count": 11,
   "metadata": {},
   "outputs": [
    {
     "data": {
      "text/plain": [
       "\"\\naa='a、b、c、d、e、f、g、h、i、j、k、l、m、n、o、p、q、r、s、t、u、v、w、x、y、z'.split('、')\\nbb=[0]*26 #26个字母出现的频率\\nfor i in data['Word']:\\n    tt=Counter(i.strip())\\n    for j in tt:\\n        bb[aa.index(j)] += tt[j]\\nprint('每个字母出现的频次',bb)\\n\\n#26个字母频率提取\\n\\ntemp=[]\\ncolumn_name = ['Letter feq']\\n\\nfor i in data['Word']:\\n    tt=Counter(i.strip())\\n    nums = 0 #单词所含字母的数量占总体样本的总数量\\n    for j in tt:\\n        nums += bb[aa.index(j)]\\n    temp.append(nums)\\ntemp=pd.DataFrame(temp,columns=column_name)\\ndata=pd.concat([data,temp],axis=1)\\n\""
      ]
     },
     "execution_count": 11,
     "metadata": {},
     "output_type": "execute_result"
    }
   ],
   "source": [
    "#字母数量特征提取\n",
    "'''\n",
    "aa='a、b、c、d、e、f、g、h、i、j、k、l、m、n、o、p、q、r、s、t、u、v、w、x、y、z'.split('、')\n",
    "bb=[0]*26 #26个字母出现的频率\n",
    "for i in data['Word']:\n",
    "    tt=Counter(i.strip())\n",
    "    for j in tt:\n",
    "        bb[aa.index(j)] += tt[j]\n",
    "print('每个字母出现的频次',bb)\n",
    "\n",
    "#26个字母频率提取\n",
    "\n",
    "temp=[]\n",
    "column_name = ['Letter feq']\n",
    "\n",
    "for i in data['Word']:\n",
    "    tt=Counter(i.strip())\n",
    "    nums = 0 #单词所含字母的数量占总体样本的总数量\n",
    "    for j in tt:\n",
    "        nums += bb[aa.index(j)]\n",
    "    temp.append(nums)\n",
    "temp=pd.DataFrame(temp,columns=column_name)\n",
    "data=pd.concat([data,temp],axis=1)\n",
    "'''"
   ]
  },
  {
   "cell_type": "code",
   "execution_count": 12,
   "metadata": {},
   "outputs": [],
   "source": [
    "#利用摩斯密码进行频数的提取(附加)\n",
    "morse = {'e':12000,'t':9000,'a':8000,'i':8000,'n':8000,'o':8000,'s':8000,'h':6400,'r':6200,'d':4400,'l':4000,'u':3000,\n",
    "'c':3000,'m':3000,'f':2500,'w':2000,'y':2000,'g':1700,'p':1700,'b':1600,'v':1200,'k':800,'q':500,'j':400,'x':400,'z':200}\n",
    "\n",
    "temp=[]\n",
    "column_name = ['Letter feq']\n",
    "\n",
    "for i in data['Word']:\n",
    "    tt=Counter(i.strip())\n",
    "    nums = 0 \n",
    "    for j in tt:\n",
    "        nums += morse[j]\n",
    "    temp.append(nums)\n",
    "temp=pd.DataFrame(temp,columns=column_name)\n",
    "data=pd.concat([data,temp],axis=1)"
   ]
  },
  {
   "cell_type": "code",
   "execution_count": 13,
   "metadata": {},
   "outputs": [
    {
     "data": {
      "text/plain": [
       "<AxesSubplot:xlabel='Letter feq', ylabel='Density'>"
      ]
     },
     "execution_count": 13,
     "metadata": {},
     "output_type": "execute_result"
    },
    {
     "data": {
      "image/png": "[encoded data removed]",
      "text/plain": [
       "<Figure size 600x300 with 1 Axes>"
      ]
     },
     "metadata": {},
     "output_type": "display_data"
    }
   ],
   "source": [
    "#字母数量特征可视化\n",
    "plt.figure(figsize=(6,3))\n",
    "sns.kdeplot(data=data['Letter feq'], shade=True)"
   ]
  },
  {
   "attachments": {},
   "cell_type": "markdown",
   "metadata": {},
   "source": [
    "## 字母重复数量"
   ]
  },
  {
   "cell_type": "code",
   "execution_count": 14,
   "metadata": {},
   "outputs": [],
   "source": [
    "#字母重复数量特征\n",
    "\n",
    "data['Letter rep'] = data['Word'].apply(lambda x:(5-len(set(x))))"
   ]
  },
  {
   "cell_type": "code",
   "execution_count": 15,
   "metadata": {},
   "outputs": [
    {
     "name": "stdout",
     "output_type": "stream",
     "text": [
      "0    259\n",
      "1     94\n",
      "2      6\n",
      "Name: Letter rep, dtype: int64\n"
     ]
    },
    {
     "data": {
      "text/plain": [
       "<matplotlib.legend.Legend at 0x173eb49fd60>"
      ]
     },
     "execution_count": 15,
     "metadata": {},
     "output_type": "execute_result"
    },
    {
     "data": {
      "image/png": "[encoded data removed]",
      "text/plain": [
       "<Figure size 600x300 with 1 Axes>"
      ]
     },
     "metadata": {},
     "output_type": "display_data"
    }
   ],
   "source": [
    "#字母重复数量特征可视化\n",
    "print(data['Letter rep'].value_counts())\n",
    "\n",
    "#可视化\n",
    "data_v = list(data['Letter rep'].value_counts())\n",
    "labels = list(data['Letter rep'].value_counts().index)\n",
    "plt.figure(figsize=(6,3))\n",
    "plt.pie(data_v,labels=labels,autopct = '%0.0f%%')\n",
    "plt.legend()\n"
   ]
  },
  {
   "attachments": {},
   "cell_type": "markdown",
   "metadata": {},
   "source": [
    "## 使用频率"
   ]
  },
  {
   "cell_type": "code",
   "execution_count": 16,
   "metadata": {},
   "outputs": [
    {
     "name": "stderr",
     "output_type": "stream",
     "text": [
      "C:\\Users\\sty007\\AppData\\Local\\Temp\\ipykernel_6968\\1885791621.py:11: SettingWithCopyWarning: \n",
      "A value is trying to be set on a copy of a slice from a DataFrame\n",
      "\n",
      "See the caveats in the documentation: https://pandas.pydata.org/pandas-docs/stable/user_guide/indexing.html#returning-a-view-versus-a-copy\n",
      "  table_1.drop_duplicates(subset='  WORD',inplace=True)\n"
     ]
    }
   ],
   "source": [
    "#使用频率特征——引入Coca单词表(pass)\n",
    "\n",
    "def find_word(word_list,database):\n",
    "    return database[database['  WORD'].isin(word_list)]\n",
    "    \n",
    "coca = pd.read_excel('../data/COCA60000.xlsx')\n",
    "#大写转小写\n",
    "coca['  WORD'] = coca['  WORD'].apply(lambda x:x.lower().strip())\n",
    "word_list = list(data['Word'])\n",
    "table_1 = find_word(word_list,coca)\n",
    "table_1.drop_duplicates(subset='  WORD',inplace=True)\n",
    "data = pd.merge(data,table_1,left_on = 'Word',right_on = \"  WORD\",how = 'outer')\n",
    "data.drop(['  WORD','PoS','RANK #','SPOKEN','FICTION','MAGAZINE','NEWSPAPER','ACADEMIC'],axis = 1,inplace=True)\n",
    "data.rename(columns={'TOTAL':'Word feq'},inplace=True)"
   ]
  },
  {
   "cell_type": "code",
   "execution_count": 17,
   "metadata": {},
   "outputs": [
    {
     "data": {
      "text/plain": [
       "<AxesSubplot:xlabel='Word feq', ylabel='Density'>"
      ]
     },
     "execution_count": 17,
     "metadata": {},
     "output_type": "execute_result"
    },
    {
     "data": {
      "image/png": "[encoded data removed]",
      "text/plain": [
       "<Figure size 600x300 with 1 Axes>"
      ]
     },
     "metadata": {},
     "output_type": "display_data"
    }
   ],
   "source": [
    "#词频可视化\n",
    "plt.figure(figsize=(6,3))\n",
    "sns.kdeplot(data=data['Word feq'], shade=True)"
   ]
  },
  {
   "attachments": {},
   "cell_type": "markdown",
   "metadata": {},
   "source": [
    "## 星期转换&工作日休息日转换"
   ]
  },
  {
   "cell_type": "code",
   "execution_count": 18,
   "metadata": {},
   "outputs": [],
   "source": [
    "#星期转换\n",
    "# 判断当前日期为周几，周一为0，依次增加  \n",
    "data['week']=data['Date'].apply(lambda x:x.weekday())\n",
    "data['is_weekend'] = data['week'].apply(lambda x:x>4)"
   ]
  },
  {
   "cell_type": "code",
   "execution_count": 19,
   "metadata": {},
   "outputs": [
    {
     "data": {
      "image/png": "[encoded data removed]",
      "text/plain": [
       "<Figure size 600x300 with 1 Axes>"
      ]
     },
     "metadata": {},
     "output_type": "display_data"
    }
   ],
   "source": [
    "#星期转换可视化\n",
    "plt.figure(figsize=(6,3))\n",
    "e = sns.barplot(x = list(data['week'].value_counts().index), y = list(data['week'].value_counts()),color = 'green')\n",
    "show_values(e)"
   ]
  },
  {
   "attachments": {},
   "cell_type": "markdown",
   "metadata": {},
   "source": [
    "## 字母频率特征提取"
   ]
  },
  {
   "cell_type": "code",
   "execution_count": 20,
   "metadata": {},
   "outputs": [],
   "source": [
    "#单词切分\n",
    "words = data['Word'].apply(func = list)\n",
    "df_word = pd.DataFrame(data = [ i for i in words.values] ,columns = ['char1','char2','char3','char4','char5'])\n",
    "data[df_word.columns] = df_word"
   ]
  },
  {
   "attachments": {},
   "cell_type": "markdown",
   "metadata": {},
   "source": [
    "## 困难模式百分比计算"
   ]
  },
  {
   "cell_type": "code",
   "execution_count": 21,
   "metadata": {},
   "outputs": [],
   "source": [
    "#困难模式百分比计算\n",
    "\n",
    "data['Hard percent']=data['Number in hard mode']/data['Number of  reported results']"
   ]
  },
  {
   "cell_type": "code",
   "execution_count": 22,
   "metadata": {},
   "outputs": [
    {
     "data": {
      "text/plain": [
       "<AxesSubplot:xlabel='Date', ylabel='Hard percent'>"
      ]
     },
     "execution_count": 22,
     "metadata": {},
     "output_type": "execute_result"
    },
    {
     "data": {
      "image/png": "[encoded data removed]",
      "text/plain": [
       "<Figure size 600x300 with 1 Axes>"
      ]
     },
     "metadata": {},
     "output_type": "display_data"
    }
   ],
   "source": [
    "#困难模式百分比可视化\n",
    "plt.figure(figsize=(6,3))\n",
    "sns.lineplot(x='Date',y='Hard percent',data = data)"
   ]
  },
  {
   "cell_type": "code",
   "execution_count": 23,
   "metadata": {},
   "outputs": [
    {
     "name": "stdout",
     "output_type": "stream",
     "text": [
      "0.0835138234169958\n"
     ]
    }
   ],
   "source": [
    "#困难模式百分比划分\n",
    "threshold = data['Hard percent'].median()\n",
    "print(threshold)\n",
    "def judge (percent,threshold):\n",
    "    if percent > threshold:\n",
    "        return 'hard'\n",
    "    else:\n",
    "        return 'easy'\n",
    "\n",
    "\n",
    "data['Hard percent half'] = data['Hard percent'].apply(lambda x:judge(x,threshold))"
   ]
  },
  {
   "cell_type": "code",
   "execution_count": 24,
   "metadata": {},
   "outputs": [
    {
     "data": {
      "text/plain": [
       "Index(['Date', 'Contest number', 'Word', 'Number of  reported results',\n",
       "       'Number in hard mode', '1 try', '2 tries', '3 tries', '4 tries',\n",
       "       '5 tries', '6 tries', '7 or more tries (X)', 'tags', 'Vowels nums',\n",
       "       'Combined nums', 'Letter feq', 'Letter rep', 'Word feq', 'week',\n",
       "       'is_weekend', 'char1', 'char2', 'char3', 'char4', 'char5',\n",
       "       'Hard percent', 'Hard percent half'],\n",
       "      dtype='object')"
      ]
     },
     "execution_count": 24,
     "metadata": {},
     "output_type": "execute_result"
    }
   ],
   "source": [
    "data.columns"
   ]
  },
  {
   "cell_type": "code",
   "execution_count": 25,
   "metadata": {},
   "outputs": [
    {
     "data": {
      "text/html": [
       "<div>\n",
       "<style scoped>\n",
       "    .dataframe tbody tr th:only-of-type {\n",
       "        vertical-align: middle;\n",
       "    }\n",
       "\n",
       "    .dataframe tbody tr th {\n",
       "        vertical-align: top;\n",
       "    }\n",
       "\n",
       "    .dataframe thead th {\n",
       "        text-align: right;\n",
       "    }\n",
       "</style>\n",
       "<table border=\"1\" class=\"dataframe\">\n",
       "  <thead>\n",
       "    <tr style=\"text-align: right;\">\n",
       "      <th></th>\n",
       "      <th>Date</th>\n",
       "      <th>Contest number</th>\n",
       "      <th>Word</th>\n",
       "      <th>Number of  reported results</th>\n",
       "      <th>Number in hard mode</th>\n",
       "      <th>1 try</th>\n",
       "      <th>2 tries</th>\n",
       "      <th>3 tries</th>\n",
       "      <th>4 tries</th>\n",
       "      <th>5 tries</th>\n",
       "      <th>...</th>\n",
       "      <th>Word feq</th>\n",
       "      <th>week</th>\n",
       "      <th>is_weekend</th>\n",
       "      <th>char1</th>\n",
       "      <th>char2</th>\n",
       "      <th>char3</th>\n",
       "      <th>char4</th>\n",
       "      <th>char5</th>\n",
       "      <th>Hard percent</th>\n",
       "      <th>Hard percent half</th>\n",
       "    </tr>\n",
       "  </thead>\n",
       "  <tbody>\n",
       "    <tr>\n",
       "      <th>0</th>\n",
       "      <td>2022-01-07</td>\n",
       "      <td>202</td>\n",
       "      <td>slump</td>\n",
       "      <td>80630.0</td>\n",
       "      <td>1362.0</td>\n",
       "      <td>1.000000</td>\n",
       "      <td>3.000000</td>\n",
       "      <td>23.000000</td>\n",
       "      <td>39.000000</td>\n",
       "      <td>24.000000</td>\n",
       "      <td>...</td>\n",
       "      <td>3284.0</td>\n",
       "      <td>4</td>\n",
       "      <td>False</td>\n",
       "      <td>s</td>\n",
       "      <td>l</td>\n",
       "      <td>u</td>\n",
       "      <td>m</td>\n",
       "      <td>p</td>\n",
       "      <td>0.016892</td>\n",
       "      <td>easy</td>\n",
       "    </tr>\n",
       "    <tr>\n",
       "      <th>1</th>\n",
       "      <td>2022-01-08</td>\n",
       "      <td>203</td>\n",
       "      <td>crank</td>\n",
       "      <td>101503.0</td>\n",
       "      <td>1763.0</td>\n",
       "      <td>1.000000</td>\n",
       "      <td>5.000000</td>\n",
       "      <td>23.000000</td>\n",
       "      <td>31.000000</td>\n",
       "      <td>24.000000</td>\n",
       "      <td>...</td>\n",
       "      <td>2121.0</td>\n",
       "      <td>5</td>\n",
       "      <td>True</td>\n",
       "      <td>c</td>\n",
       "      <td>r</td>\n",
       "      <td>a</td>\n",
       "      <td>n</td>\n",
       "      <td>k</td>\n",
       "      <td>0.017369</td>\n",
       "      <td>easy</td>\n",
       "    </tr>\n",
       "    <tr>\n",
       "      <th>2</th>\n",
       "      <td>2022-01-09</td>\n",
       "      <td>204</td>\n",
       "      <td>gorge</td>\n",
       "      <td>91477.0</td>\n",
       "      <td>1913.0</td>\n",
       "      <td>1.000000</td>\n",
       "      <td>3.000000</td>\n",
       "      <td>13.000000</td>\n",
       "      <td>27.000000</td>\n",
       "      <td>30.000000</td>\n",
       "      <td>...</td>\n",
       "      <td>1762.0</td>\n",
       "      <td>6</td>\n",
       "      <td>True</td>\n",
       "      <td>g</td>\n",
       "      <td>o</td>\n",
       "      <td>r</td>\n",
       "      <td>g</td>\n",
       "      <td>e</td>\n",
       "      <td>0.020912</td>\n",
       "      <td>easy</td>\n",
       "    </tr>\n",
       "    <tr>\n",
       "      <th>3</th>\n",
       "      <td>2022-01-10</td>\n",
       "      <td>205</td>\n",
       "      <td>query</td>\n",
       "      <td>107134.0</td>\n",
       "      <td>2242.0</td>\n",
       "      <td>1.000000</td>\n",
       "      <td>4.000000</td>\n",
       "      <td>16.000000</td>\n",
       "      <td>30.000000</td>\n",
       "      <td>30.000000</td>\n",
       "      <td>...</td>\n",
       "      <td>1864.0</td>\n",
       "      <td>0</td>\n",
       "      <td>False</td>\n",
       "      <td>q</td>\n",
       "      <td>u</td>\n",
       "      <td>e</td>\n",
       "      <td>r</td>\n",
       "      <td>y</td>\n",
       "      <td>0.020927</td>\n",
       "      <td>easy</td>\n",
       "    </tr>\n",
       "    <tr>\n",
       "      <th>4</th>\n",
       "      <td>2022-01-11</td>\n",
       "      <td>206</td>\n",
       "      <td>drink</td>\n",
       "      <td>153880.0</td>\n",
       "      <td>3017.0</td>\n",
       "      <td>0.990099</td>\n",
       "      <td>8.910891</td>\n",
       "      <td>34.653465</td>\n",
       "      <td>33.663366</td>\n",
       "      <td>15.841584</td>\n",
       "      <td>...</td>\n",
       "      <td>34617.0</td>\n",
       "      <td>1</td>\n",
       "      <td>False</td>\n",
       "      <td>d</td>\n",
       "      <td>r</td>\n",
       "      <td>i</td>\n",
       "      <td>n</td>\n",
       "      <td>k</td>\n",
       "      <td>0.019606</td>\n",
       "      <td>easy</td>\n",
       "    </tr>\n",
       "    <tr>\n",
       "      <th>...</th>\n",
       "      <td>...</td>\n",
       "      <td>...</td>\n",
       "      <td>...</td>\n",
       "      <td>...</td>\n",
       "      <td>...</td>\n",
       "      <td>...</td>\n",
       "      <td>...</td>\n",
       "      <td>...</td>\n",
       "      <td>...</td>\n",
       "      <td>...</td>\n",
       "      <td>...</td>\n",
       "      <td>...</td>\n",
       "      <td>...</td>\n",
       "      <td>...</td>\n",
       "      <td>...</td>\n",
       "      <td>...</td>\n",
       "      <td>...</td>\n",
       "      <td>...</td>\n",
       "      <td>...</td>\n",
       "      <td>...</td>\n",
       "      <td>...</td>\n",
       "    </tr>\n",
       "    <tr>\n",
       "      <th>354</th>\n",
       "      <td>2022-12-27</td>\n",
       "      <td>556</td>\n",
       "      <td>condo</td>\n",
       "      <td>20879.0</td>\n",
       "      <td>2012.0</td>\n",
       "      <td>0.000000</td>\n",
       "      <td>2.000000</td>\n",
       "      <td>17.000000</td>\n",
       "      <td>35.000000</td>\n",
       "      <td>29.000000</td>\n",
       "      <td>...</td>\n",
       "      <td>3064.0</td>\n",
       "      <td>1</td>\n",
       "      <td>False</td>\n",
       "      <td>c</td>\n",
       "      <td>o</td>\n",
       "      <td>n</td>\n",
       "      <td>d</td>\n",
       "      <td>o</td>\n",
       "      <td>0.096365</td>\n",
       "      <td>hard</td>\n",
       "    </tr>\n",
       "    <tr>\n",
       "      <th>355</th>\n",
       "      <td>2022-12-28</td>\n",
       "      <td>557</td>\n",
       "      <td>impel</td>\n",
       "      <td>20160.0</td>\n",
       "      <td>1937.0</td>\n",
       "      <td>0.000000</td>\n",
       "      <td>3.030303</td>\n",
       "      <td>21.212121</td>\n",
       "      <td>40.404040</td>\n",
       "      <td>25.252525</td>\n",
       "      <td>...</td>\n",
       "      <td>552.0</td>\n",
       "      <td>2</td>\n",
       "      <td>False</td>\n",
       "      <td>i</td>\n",
       "      <td>m</td>\n",
       "      <td>p</td>\n",
       "      <td>e</td>\n",
       "      <td>l</td>\n",
       "      <td>0.096081</td>\n",
       "      <td>hard</td>\n",
       "    </tr>\n",
       "    <tr>\n",
       "      <th>356</th>\n",
       "      <td>2022-12-29</td>\n",
       "      <td>558</td>\n",
       "      <td>havoc</td>\n",
       "      <td>20001.0</td>\n",
       "      <td>1919.0</td>\n",
       "      <td>0.000000</td>\n",
       "      <td>2.000000</td>\n",
       "      <td>16.000000</td>\n",
       "      <td>38.000000</td>\n",
       "      <td>30.000000</td>\n",
       "      <td>...</td>\n",
       "      <td>1715.0</td>\n",
       "      <td>3</td>\n",
       "      <td>False</td>\n",
       "      <td>h</td>\n",
       "      <td>a</td>\n",
       "      <td>v</td>\n",
       "      <td>o</td>\n",
       "      <td>c</td>\n",
       "      <td>0.095945</td>\n",
       "      <td>hard</td>\n",
       "    </tr>\n",
       "    <tr>\n",
       "      <th>357</th>\n",
       "      <td>2022-12-30</td>\n",
       "      <td>559</td>\n",
       "      <td>molar</td>\n",
       "      <td>21204.0</td>\n",
       "      <td>1973.0</td>\n",
       "      <td>0.000000</td>\n",
       "      <td>4.040404</td>\n",
       "      <td>21.212121</td>\n",
       "      <td>38.383838</td>\n",
       "      <td>26.262626</td>\n",
       "      <td>...</td>\n",
       "      <td>324.0</td>\n",
       "      <td>4</td>\n",
       "      <td>False</td>\n",
       "      <td>m</td>\n",
       "      <td>o</td>\n",
       "      <td>l</td>\n",
       "      <td>a</td>\n",
       "      <td>r</td>\n",
       "      <td>0.093048</td>\n",
       "      <td>hard</td>\n",
       "    </tr>\n",
       "    <tr>\n",
       "      <th>358</th>\n",
       "      <td>2022-12-31</td>\n",
       "      <td>560</td>\n",
       "      <td>manly</td>\n",
       "      <td>20380.0</td>\n",
       "      <td>1899.0</td>\n",
       "      <td>0.000000</td>\n",
       "      <td>2.020202</td>\n",
       "      <td>17.171717</td>\n",
       "      <td>37.373737</td>\n",
       "      <td>29.292929</td>\n",
       "      <td>...</td>\n",
       "      <td>834.0</td>\n",
       "      <td>5</td>\n",
       "      <td>True</td>\n",
       "      <td>m</td>\n",
       "      <td>a</td>\n",
       "      <td>n</td>\n",
       "      <td>l</td>\n",
       "      <td>y</td>\n",
       "      <td>0.093180</td>\n",
       "      <td>hard</td>\n",
       "    </tr>\n",
       "  </tbody>\n",
       "</table>\n",
       "<p>359 rows × 27 columns</p>\n",
       "</div>"
      ],
      "text/plain": [
       "          Date  Contest number   Word  Number of  reported results  \\\n",
       "0   2022-01-07             202  slump                      80630.0   \n",
       "1   2022-01-08             203  crank                     101503.0   \n",
       "2   2022-01-09             204  gorge                      91477.0   \n",
       "3   2022-01-10             205  query                     107134.0   \n",
       "4   2022-01-11             206  drink                     153880.0   \n",
       "..         ...             ...    ...                          ...   \n",
       "354 2022-12-27             556  condo                      20879.0   \n",
       "355 2022-12-28             557  impel                      20160.0   \n",
       "356 2022-12-29             558  havoc                      20001.0   \n",
       "357 2022-12-30             559  molar                      21204.0   \n",
       "358 2022-12-31             560  manly                      20380.0   \n",
       "\n",
       "     Number in hard mode     1 try   2 tries    3 tries    4 tries    5 tries  \\\n",
       "0                 1362.0  1.000000  3.000000  23.000000  39.000000  24.000000   \n",
       "1                 1763.0  1.000000  5.000000  23.000000  31.000000  24.000000   \n",
       "2                 1913.0  1.000000  3.000000  13.000000  27.000000  30.000000   \n",
       "3                 2242.0  1.000000  4.000000  16.000000  30.000000  30.000000   \n",
       "4                 3017.0  0.990099  8.910891  34.653465  33.663366  15.841584   \n",
       "..                   ...       ...       ...        ...        ...        ...   \n",
       "354               2012.0  0.000000  2.000000  17.000000  35.000000  29.000000   \n",
       "355               1937.0  0.000000  3.030303  21.212121  40.404040  25.252525   \n",
       "356               1919.0  0.000000  2.000000  16.000000  38.000000  30.000000   \n",
       "357               1973.0  0.000000  4.040404  21.212121  38.383838  26.262626   \n",
       "358               1899.0  0.000000  2.020202  17.171717  37.373737  29.292929   \n",
       "\n",
       "     ...  Word feq  week is_weekend  char1  char2  char3  char4  char5  \\\n",
       "0    ...    3284.0     4      False      s      l      u      m      p   \n",
       "1    ...    2121.0     5       True      c      r      a      n      k   \n",
       "2    ...    1762.0     6       True      g      o      r      g      e   \n",
       "3    ...    1864.0     0      False      q      u      e      r      y   \n",
       "4    ...   34617.0     1      False      d      r      i      n      k   \n",
       "..   ...       ...   ...        ...    ...    ...    ...    ...    ...   \n",
       "354  ...    3064.0     1      False      c      o      n      d      o   \n",
       "355  ...     552.0     2      False      i      m      p      e      l   \n",
       "356  ...    1715.0     3      False      h      a      v      o      c   \n",
       "357  ...     324.0     4      False      m      o      l      a      r   \n",
       "358  ...     834.0     5       True      m      a      n      l      y   \n",
       "\n",
       "     Hard percent  Hard percent half  \n",
       "0        0.016892               easy  \n",
       "1        0.017369               easy  \n",
       "2        0.020912               easy  \n",
       "3        0.020927               easy  \n",
       "4        0.019606               easy  \n",
       "..            ...                ...  \n",
       "354      0.096365               hard  \n",
       "355      0.096081               hard  \n",
       "356      0.095945               hard  \n",
       "357      0.093048               hard  \n",
       "358      0.093180               hard  \n",
       "\n",
       "[359 rows x 27 columns]"
      ]
     },
     "execution_count": 25,
     "metadata": {},
     "output_type": "execute_result"
    }
   ],
   "source": [
    "data"
   ]
  },
  {
   "cell_type": "code",
   "execution_count": 26,
   "metadata": {},
   "outputs": [],
   "source": [
    "#导出文档，之后的函数都是试用的\n",
    "data.to_excel(\"../data/特征提取.xlsx\",index=False)"
   ]
  },
  {
   "cell_type": "code",
   "execution_count": 27,
   "metadata": {},
   "outputs": [
    {
     "data": {
      "text/plain": [
       "\"\\n#26个字母频率提取(pass)\\naa='a、b、c、d、e、f、g、h、i、j、k、l、m、n、o、p、q、r、s、t、u、v、w、x、y、z'.split('、')\\ntemp=[]\\nfor i in data['Word']:\\n    tt=Counter(i.strip())\\n    bb=[0]*26\\n    for j in tt:\\n        bb[aa.index(j)]=tt[j]\\n    temp.append(bb)\\ntemp=pd.DataFrame(temp,columns=aa)\\ndata=pd.concat([data,temp],axis=1)\\n\""
      ]
     },
     "execution_count": 27,
     "metadata": {},
     "output_type": "execute_result"
    }
   ],
   "source": [
    "'''\n",
    "#26个字母频率提取(pass)\n",
    "aa='a、b、c、d、e、f、g、h、i、j、k、l、m、n、o、p、q、r、s、t、u、v、w、x、y、z'.split('、')\n",
    "temp=[]\n",
    "for i in data['Word']:\n",
    "    tt=Counter(i.strip())\n",
    "    bb=[0]*26\n",
    "    for j in tt:\n",
    "        bb[aa.index(j)]=tt[j]\n",
    "    temp.append(bb)\n",
    "temp=pd.DataFrame(temp,columns=aa)\n",
    "data=pd.concat([data,temp],axis=1)\n",
    "'''"
   ]
  }
 ],
 "metadata": {
  "kernelspec": {
   "display_name": "base",
   "language": "python",
   "name": "python3"
  },
  "language_info": {
   "codemirror_mode": {
    "name": "ipython",
    "version": 3
   },
   "file_extension": ".py",
   "mimetype": "text/x-python",
   "name": "python",
   "nbconvert_exporter": "python",
   "pygments_lexer": "ipython3",
   "version": "3.9.13"
  },
  "orig_nbformat": 4,
  "vscode": {
   "interpreter": {
    "hash": "eba4da2826bf68c5778d91fa4078fe184c14c895dbc6ad2d1ac0d3aec61a81c6"
   }
  }
 },
 "nbformat": 4,
 "nbformat_minor": 2
}
